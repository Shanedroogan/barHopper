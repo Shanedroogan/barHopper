{
 "cells": [
  {
   "cell_type": "markdown",
   "metadata": {},
   "source": [
    "# BarHopper"
   ]
  },
  {
   "cell_type": "markdown",
   "metadata": {},
   "source": [
    "To start, execute the command below."
   ]
  },
  {
   "cell_type": "code",
   "execution_count": 2,
   "metadata": {},
   "outputs": [
    {
     "name": "stdout",
     "output_type": "stream",
     "text": [
      " * Serving Flask app \"barhopper.py\"\n",
      " * Environment: production\n",
      "\u001b[31m   WARNING: This is a development server. Do not use it in a production deployment.\u001b[0m\n",
      "\u001b[2m   Use a production WSGI server instead.\u001b[0m\n",
      " * Debug mode: off\n",
      "[2020-04-07 21:18:27,476] INFO in __init__: Test startup\n",
      " * Running on http://0.0.0.0:5000/ (Press CTRL+C to quit)\n",
      "71.230.210.179 - - [07/Apr/2020 21:18:33] \"\u001b[37mGET / HTTP/1.1\u001b[0m\" 200 -\n",
      "71.230.210.179 - - [07/Apr/2020 21:18:34] \"\u001b[36mGET /static/mystyle.css HTTP/1.1\u001b[0m\" 304 -\n",
      "71.230.210.179 - - [07/Apr/2020 21:18:36] \"\u001b[37mGET /index HTTP/1.1\u001b[0m\" 200 -\n",
      "71.230.210.179 - - [07/Apr/2020 21:18:39] \"\u001b[32mGET /logout HTTP/1.1\u001b[0m\" 302 -\n",
      "71.230.210.179 - - [07/Apr/2020 21:18:39] \"\u001b[37mGET /index HTTP/1.1\u001b[0m\" 200 -\n",
      "71.230.210.179 - - [07/Apr/2020 21:18:41] \"\u001b[37mGET /login HTTP/1.1\u001b[0m\" 200 -\n",
      "71.230.210.179 - - [07/Apr/2020 21:18:46] \"\u001b[32mPOST /login HTTP/1.1\u001b[0m\" 302 -\n",
      "71.230.210.179 - - [07/Apr/2020 21:18:46] \"\u001b[37mGET /index HTTP/1.1\u001b[0m\" 200 -\n",
      "71.230.210.179 - - [07/Apr/2020 21:18:48] \"\u001b[32mGET /logout HTTP/1.1\u001b[0m\" 302 -\n",
      "71.230.210.179 - - [07/Apr/2020 21:18:48] \"\u001b[37mGET /index HTTP/1.1\u001b[0m\" 200 -\n",
      "71.230.210.179 - - [07/Apr/2020 21:18:50] \"\u001b[37mGET /login HTTP/1.1\u001b[0m\" 200 -\n",
      "71.230.210.179 - - [07/Apr/2020 21:18:57] \"\u001b[37mGET /reset_password_request HTTP/1.1\u001b[0m\" 200 -\n",
      "71.230.210.179 - - [07/Apr/2020 21:19:03] \"\u001b[32mPOST /reset_password_request HTTP/1.1\u001b[0m\" 302 -\n",
      "71.230.210.179 - - [07/Apr/2020 21:19:03] \"\u001b[37mGET /login HTTP/1.1\u001b[0m\" 200 -\n",
      "^C\n"
     ]
    }
   ],
   "source": [
    "!flask run --host=0.0.0.0"
   ]
  },
  {
   "cell_type": "code",
   "execution_count": null,
   "metadata": {},
   "outputs": [],
   "source": []
  }
 ],
 "metadata": {
  "kernelspec": {
   "display_name": "Python 3",
   "language": "python",
   "name": "python3"
  },
  "language_info": {
   "codemirror_mode": {
    "name": "ipython",
    "version": 3
   },
   "file_extension": ".py",
   "mimetype": "text/x-python",
   "name": "python",
   "nbconvert_exporter": "python",
   "pygments_lexer": "ipython3",
   "version": "3.6.9"
  },
  "toc": {
   "nav_menu": {},
   "number_sections": true,
   "sideBar": true,
   "skip_h1_title": false,
   "title_cell": "Table of Contents",
   "title_sidebar": "Contents",
   "toc_cell": false,
   "toc_position": {},
   "toc_section_display": true,
   "toc_window_display": false
  }
 },
 "nbformat": 4,
 "nbformat_minor": 4
}
